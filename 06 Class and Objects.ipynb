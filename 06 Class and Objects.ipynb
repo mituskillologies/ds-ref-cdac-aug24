{
 "cells": [
  {
   "cell_type": "markdown",
   "id": "f4d322ac-d689-4a68-b185-69a5cc181c5c",
   "metadata": {},
   "source": [
    "##### Define the class"
   ]
  },
  {
   "cell_type": "code",
   "execution_count": 8,
   "id": "4956ce43-9de1-4144-a8d5-f55afb5d4e27",
   "metadata": {},
   "outputs": [],
   "source": [
    "class Person:\n",
    "    # constructor\n",
    "    def __init__(self, n, a):\n",
    "        self.name = n    # instance variables\n",
    "        self.age = a     # name and age are attributes / properties\n",
    "    def show(self):      # function / behavior\n",
    "        print('My data:', self.name, self.age)\n",
    "    def isEligibleForVoting(self):\n",
    "        if self.age >= 21:\n",
    "            return True\n",
    "        else:\n",
    "            return False"
   ]
  },
  {
   "cell_type": "code",
   "execution_count": 9,
   "id": "a654001a-2c27-40f3-9371-09ec2373c6c1",
   "metadata": {},
   "outputs": [],
   "source": [
    "#create the object\n",
    "ob1 = Person('Anil',34)"
   ]
  },
  {
   "cell_type": "code",
   "execution_count": 4,
   "id": "fc9f2075-2706-49da-b828-71d3f5877ac4",
   "metadata": {},
   "outputs": [
    {
     "data": {
      "text/plain": [
       "('Anil', 34)"
      ]
     },
     "execution_count": 4,
     "metadata": {},
     "output_type": "execute_result"
    }
   ],
   "source": [
    "ob1.name, ob1.age"
   ]
  },
  {
   "cell_type": "code",
   "execution_count": 5,
   "id": "3e744204-6ae1-4f0c-ab8c-29e3e10575b8",
   "metadata": {},
   "outputs": [
    {
     "data": {
      "text/plain": [
       "('Sunita', 27)"
      ]
     },
     "execution_count": 5,
     "metadata": {},
     "output_type": "execute_result"
    }
   ],
   "source": [
    "ob2 = Person('Sunita',27)\n",
    "ob2.name, ob2.age"
   ]
  },
  {
   "cell_type": "code",
   "execution_count": 6,
   "id": "37048f15-d9ad-4cc7-b22f-77325f8851d7",
   "metadata": {},
   "outputs": [
    {
     "name": "stdout",
     "output_type": "stream",
     "text": [
      "My data: Anil 34\n"
     ]
    }
   ],
   "source": [
    "ob1.show()"
   ]
  },
  {
   "cell_type": "code",
   "execution_count": 7,
   "id": "332a3642-df09-4b93-9924-93b1e5bcaf84",
   "metadata": {},
   "outputs": [
    {
     "name": "stdout",
     "output_type": "stream",
     "text": [
      "My data: Sunita 27\n"
     ]
    }
   ],
   "source": [
    "ob2.show()"
   ]
  },
  {
   "cell_type": "code",
   "execution_count": 10,
   "id": "133092e5-7e90-4452-aff3-c07640ac8195",
   "metadata": {},
   "outputs": [],
   "source": [
    "ob3 = Person('Ram',17)\n",
    "ob4 = Person('Keshav', 34)"
   ]
  },
  {
   "cell_type": "code",
   "execution_count": 11,
   "id": "d334c657-0503-4083-aaf9-c77cfb5294a5",
   "metadata": {},
   "outputs": [
    {
     "data": {
      "text/plain": [
       "False"
      ]
     },
     "execution_count": 11,
     "metadata": {},
     "output_type": "execute_result"
    }
   ],
   "source": [
    "ob3.isEligibleForVoting()"
   ]
  },
  {
   "cell_type": "code",
   "execution_count": 12,
   "id": "43c383f9-0851-430a-9a17-d83939aa5fe3",
   "metadata": {},
   "outputs": [
    {
     "data": {
      "text/plain": [
       "True"
      ]
     },
     "execution_count": 12,
     "metadata": {},
     "output_type": "execute_result"
    }
   ],
   "source": [
    "ob4.isEligibleForVoting()"
   ]
  },
  {
   "cell_type": "code",
   "execution_count": 13,
   "id": "c74c0d2a-77e9-4933-9724-9df81cbca3c7",
   "metadata": {},
   "outputs": [
    {
     "name": "stdout",
     "output_type": "stream",
     "text": [
      "My data: Ram 17\n"
     ]
    }
   ],
   "source": [
    "ob3.show()"
   ]
  },
  {
   "cell_type": "code",
   "execution_count": 14,
   "id": "063eaada-27b5-4c05-a5d5-0a021e59551e",
   "metadata": {},
   "outputs": [
    {
     "name": "stdout",
     "output_type": "stream",
     "text": [
      "My data: Keshav 34\n"
     ]
    }
   ],
   "source": [
    "ob4.show()"
   ]
  },
  {
   "cell_type": "code",
   "execution_count": null,
   "id": "5fc2ba0b-64c4-4dcd-a442-b839acb9a9b7",
   "metadata": {},
   "outputs": [],
   "source": [
    "ob3."
   ]
  }
 ],
 "metadata": {
  "kernelspec": {
   "display_name": "Python 3 (ipykernel)",
   "language": "python",
   "name": "python3"
  },
  "language_info": {
   "codemirror_mode": {
    "name": "ipython",
    "version": 3
   },
   "file_extension": ".py",
   "mimetype": "text/x-python",
   "name": "python",
   "nbconvert_exporter": "python",
   "pygments_lexer": "ipython3",
   "version": "3.10.12"
  }
 },
 "nbformat": 4,
 "nbformat_minor": 5
}
