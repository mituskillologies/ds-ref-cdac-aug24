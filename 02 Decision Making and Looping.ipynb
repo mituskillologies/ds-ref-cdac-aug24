{
 "cells": [
  {
   "cell_type": "markdown",
   "id": "16836085-45fc-4886-bd26-c52e0429f9b8",
   "metadata": {},
   "source": [
    "##### if-else"
   ]
  },
  {
   "cell_type": "code",
   "execution_count": 8,
   "id": "807cdb06-1eeb-4d09-8e71-431bb0304911",
   "metadata": {},
   "outputs": [
    {
     "name": "stdin",
     "output_type": "stream",
     "text": [
      "Enter the number: 6\n"
     ]
    },
    {
     "name": "stdout",
     "output_type": "stream",
     "text": [
      "Number is positive\n",
      "OK\n"
     ]
    }
   ],
   "source": [
    "num = int(input('Enter the number:'))\n",
    "if num > 0:\n",
    "    print('Number is positive')\n",
    "    print('OK')\n",
    "else:\n",
    "    print('Number is negative!')\n",
    "    print('Good Bye')"
   ]
  },
  {
   "cell_type": "code",
   "execution_count": 10,
   "id": "19aefe52-b8fb-46c1-8be8-8165af246956",
   "metadata": {},
   "outputs": [
    {
     "name": "stdin",
     "output_type": "stream",
     "text": [
      "Enter the number: -5\n"
     ]
    },
    {
     "name": "stdout",
     "output_type": "stream",
     "text": [
      "Number is negative!\n"
     ]
    }
   ],
   "source": [
    "num = int(input('Enter the number:'))\n",
    "if num > 0:         # Compulsory, Condition, Non-repeatable\n",
    "    print('Number is positive')\n",
    "elif num == 0:      # Optional, Condition, Repeatable\n",
    "    print('It is ZERO.')\n",
    "else:               # Optional, No-condition, Non-repeatable\n",
    "    print('Number is negative!')"
   ]
  },
  {
   "cell_type": "code",
   "execution_count": 11,
   "id": "4e7ae90c-6b08-4a2f-8581-d0a29bd5674f",
   "metadata": {},
   "outputs": [
    {
     "name": "stdin",
     "output_type": "stream",
     "text": [
      "Enter the number: 0\n"
     ]
    },
    {
     "name": "stdout",
     "output_type": "stream",
     "text": [
      "Number is ZERO\n"
     ]
    }
   ],
   "source": [
    "num = int(input('Enter the number:'))\n",
    "if num == 0:         \n",
    "    print('Number is ZERO')\n",
    "elif num % 2 == 0:      \n",
    "    print('Number is Even')\n",
    "else:               \n",
    "    print('Number is Odd!')"
   ]
  },
  {
   "cell_type": "markdown",
   "id": "a879e183-a81e-4b2f-9e8b-2643d26f70f8",
   "metadata": {},
   "source": [
    "##### While loop"
   ]
  },
  {
   "cell_type": "code",
   "execution_count": 13,
   "id": "a57d7f46-64b0-4f82-9d91-c8479151def9",
   "metadata": {},
   "outputs": [
    {
     "name": "stdout",
     "output_type": "stream",
     "text": [
      "Tushar\n",
      "Tushar\n",
      "Tushar\n",
      "Tushar\n",
      "Tushar\n",
      "Tushar\n",
      "Tushar\n",
      "Tushar\n",
      "Tushar\n",
      "Tushar\n"
     ]
    }
   ],
   "source": [
    "count = 0\n",
    "while count < 10:\n",
    "    print('Tushar')\n",
    "    count += 1"
   ]
  },
  {
   "cell_type": "code",
   "execution_count": 14,
   "id": "fe3e6add-47f1-4164-b4a0-badf657689e2",
   "metadata": {},
   "outputs": [
    {
     "name": "stdout",
     "output_type": "stream",
     "text": [
      "11\n",
      "12\n",
      "13\n",
      "14\n",
      "15\n",
      "16\n",
      "17\n",
      "18\n",
      "19\n",
      "20\n"
     ]
    }
   ],
   "source": [
    "count = 11\n",
    "while count <= 20:\n",
    "    print(count)\n",
    "    count += 1"
   ]
  },
  {
   "cell_type": "code",
   "execution_count": 15,
   "id": "6a20d2cb-9021-4215-9f3d-56a65163341d",
   "metadata": {},
   "outputs": [
    {
     "name": "stdout",
     "output_type": "stream",
     "text": [
      "55\n"
     ]
    }
   ],
   "source": [
    "add = 0\n",
    "num = 1\n",
    "while num <= 10:\n",
    "    add = add + num\n",
    "    num += 1\n",
    "\n",
    "print(add)"
   ]
  },
  {
   "cell_type": "code",
   "execution_count": 16,
   "id": "cd0ca4be-c62d-4787-83d8-7e62e0135908",
   "metadata": {},
   "outputs": [
    {
     "name": "stdout",
     "output_type": "stream",
     "text": [
      "100\n"
     ]
    }
   ],
   "source": [
    "add = 0\n",
    "num = 1\n",
    "while num <= 20:\n",
    "    add = add + num\n",
    "    num += 2\n",
    "\n",
    "print(add)"
   ]
  },
  {
   "cell_type": "markdown",
   "id": "91081d9a-4153-4b5d-ad4d-34891ee5a9e9",
   "metadata": {},
   "source": [
    "##### for loop"
   ]
  },
  {
   "cell_type": "code",
   "execution_count": 18,
   "id": "c29e07b8-8bb2-4e7d-a5af-7743c0857ff4",
   "metadata": {},
   "outputs": [
    {
     "name": "stdout",
     "output_type": "stream",
     "text": [
      "56\n",
      "33\n",
      "12\n",
      "5\n",
      "6\n"
     ]
    }
   ],
   "source": [
    "for i in 56,33,12,5,6:\n",
    "    print(i)"
   ]
  },
  {
   "cell_type": "code",
   "execution_count": 19,
   "id": "5f6eca33-2ec4-456d-ae48-4662f682ed9e",
   "metadata": {},
   "outputs": [
    {
     "name": "stdout",
     "output_type": "stream",
     "text": [
      "3136\n",
      "1089\n",
      "144\n",
      "25\n",
      "36\n"
     ]
    }
   ],
   "source": [
    "for i in 56,33,12,5,6:\n",
    "    print(i * i)"
   ]
  },
  {
   "cell_type": "code",
   "execution_count": 20,
   "id": "48ba45c6-4104-44ae-9f5e-fcd77df7284e",
   "metadata": {},
   "outputs": [
    {
     "name": "stdout",
     "output_type": "stream",
     "text": [
      "28.0\n",
      "16.5\n",
      "6.0\n",
      "2.5\n",
      "3.0\n"
     ]
    }
   ],
   "source": [
    "num = [56,33,12,5,6]\n",
    "for i in num:\n",
    "    print(i / 2)"
   ]
  },
  {
   "cell_type": "code",
   "execution_count": 21,
   "id": "ea8e5f05-05f0-4541-be30-147853e54043",
   "metadata": {},
   "outputs": [
    {
     "name": "stdout",
     "output_type": "stream",
     "text": [
      "CCCCCCCCCCCCCCCCCCCCCCCCCCCCCCCCCCCCCCCCCCCCCCCCCC\n",
      "DDDDDDDDDDDDDDDDDDDDDDDDDDDDDDDDDDDDDDDDDDDDDDDDDD\n",
      "AAAAAAAAAAAAAAAAAAAAAAAAAAAAAAAAAAAAAAAAAAAAAAAAAA\n",
      "CCCCCCCCCCCCCCCCCCCCCCCCCCCCCCCCCCCCCCCCCCCCCCCCCC\n"
     ]
    }
   ],
   "source": [
    "name = 'CDAC'\n",
    "for c in name:\n",
    "    print(c*50)"
   ]
  },
  {
   "cell_type": "code",
   "execution_count": 22,
   "id": "38547cb0-a59a-44ef-8430-92972fcc93e6",
   "metadata": {},
   "outputs": [
    {
     "data": {
      "text/plain": [
       "[0, 1, 2, 3, 4, 5, 6, 7, 8, 9]"
      ]
     },
     "execution_count": 22,
     "metadata": {},
     "output_type": "execute_result"
    }
   ],
   "source": [
    "list(range(10))"
   ]
  },
  {
   "cell_type": "code",
   "execution_count": 23,
   "id": "17dd48b1-cda0-477a-bb41-28a3061ed25d",
   "metadata": {},
   "outputs": [
    {
     "data": {
      "text/plain": [
       "[4, 5, 6, 7, 8, 9]"
      ]
     },
     "execution_count": 23,
     "metadata": {},
     "output_type": "execute_result"
    }
   ],
   "source": [
    "list(range(4,10))"
   ]
  },
  {
   "cell_type": "code",
   "execution_count": 24,
   "id": "1883221a-dc12-4d9f-83e5-00c9e9d87e28",
   "metadata": {},
   "outputs": [
    {
     "data": {
      "text/plain": [
       "[4, 7, 10, 13, 16, 19]"
      ]
     },
     "execution_count": 24,
     "metadata": {},
     "output_type": "execute_result"
    }
   ],
   "source": [
    "list(range(4,20,3))"
   ]
  },
  {
   "cell_type": "code",
   "execution_count": 26,
   "id": "36da0231-f9c7-4549-a23d-5301be010a58",
   "metadata": {},
   "outputs": [
    {
     "name": "stdout",
     "output_type": "stream",
     "text": [
      "1\n",
      "4\n",
      "9\n",
      "16\n",
      "25\n"
     ]
    }
   ],
   "source": [
    "for n in range(1,6):\n",
    "    print(n*n)"
   ]
  },
  {
   "cell_type": "code",
   "execution_count": 27,
   "id": "8a8e5870-4fd9-4618-8780-12200f1be1cf",
   "metadata": {},
   "outputs": [
    {
     "name": "stdout",
     "output_type": "stream",
     "text": [
      "Tushar\n",
      "Tushar\n",
      "Tushar\n",
      "Tushar\n",
      "Tushar\n",
      "Tushar\n",
      "Tushar\n",
      "Tushar\n",
      "Tushar\n",
      "Tushar\n"
     ]
    }
   ],
   "source": [
    "for i in range(10):\n",
    "    print('Tushar')"
   ]
  },
  {
   "cell_type": "code",
   "execution_count": 29,
   "id": "b745d720-56b0-48fb-b5ab-47c35b3ae928",
   "metadata": {},
   "outputs": [
    {
     "name": "stdout",
     "output_type": "stream",
     "text": [
      "55\n"
     ]
    }
   ],
   "source": [
    "add = 0\n",
    "for num in range(1,11):\n",
    "    add += num\n",
    "\n",
    "print(add)"
   ]
  },
  {
   "cell_type": "code",
   "execution_count": 30,
   "id": "a36f1aa3-68c9-463e-a4de-6b14bd6ca897",
   "metadata": {},
   "outputs": [
    {
     "name": "stdout",
     "output_type": "stream",
     "text": [
      "100\n"
     ]
    }
   ],
   "source": [
    "add = 0\n",
    "for num in range(1,20,2):\n",
    "    add += num\n",
    "\n",
    "print(add)"
   ]
  },
  {
   "cell_type": "code",
   "execution_count": 31,
   "id": "0ad56e41-0354-400f-a9db-35aef087fdad",
   "metadata": {},
   "outputs": [
    {
     "data": {
      "text/plain": [
       "55"
      ]
     },
     "execution_count": 31,
     "metadata": {},
     "output_type": "execute_result"
    }
   ],
   "source": [
    "sum(range(11))"
   ]
  },
  {
   "cell_type": "code",
   "execution_count": 32,
   "id": "887b5999-ad17-4a2b-9db2-2543490e8d90",
   "metadata": {},
   "outputs": [
    {
     "data": {
      "text/plain": [
       "100"
      ]
     },
     "execution_count": 32,
     "metadata": {},
     "output_type": "execute_result"
    }
   ],
   "source": [
    "sum(range(1,20,2))"
   ]
  },
  {
   "cell_type": "markdown",
   "id": "4f3d5f97-e87e-44a9-985e-ff6591e5b9b0",
   "metadata": {},
   "source": [
    "##### break statement"
   ]
  },
  {
   "cell_type": "code",
   "execution_count": 34,
   "id": "063040ec-6a92-4652-a260-7e269f4d1036",
   "metadata": {},
   "outputs": [
    {
     "name": "stdout",
     "output_type": "stream",
     "text": [
      "0\n",
      "1\n",
      "2\n",
      "3\n",
      "4\n"
     ]
    }
   ],
   "source": [
    "for i in range(10):\n",
    "    if i == 5:\n",
    "        break\n",
    "    print(i)"
   ]
  },
  {
   "cell_type": "markdown",
   "id": "d12ffca4-93c0-4e25-9883-fea631d71b89",
   "metadata": {},
   "source": [
    "##### Continue statement"
   ]
  },
  {
   "cell_type": "code",
   "execution_count": 36,
   "id": "6b127b10-501f-4a0b-9226-4069b4d3525f",
   "metadata": {},
   "outputs": [
    {
     "name": "stdout",
     "output_type": "stream",
     "text": [
      "0\n",
      "1\n",
      "2\n",
      "3\n",
      "4\n",
      "6\n",
      "7\n",
      "8\n",
      "9\n"
     ]
    }
   ],
   "source": [
    "for i in range(10):\n",
    "    if i == 5:\n",
    "        continue\n",
    "    print(i)"
   ]
  },
  {
   "cell_type": "code",
   "execution_count": null,
   "id": "4d3ce17d-7ba2-492f-b72e-61d83b8ed50a",
   "metadata": {},
   "outputs": [],
   "source": []
  }
 ],
 "metadata": {
  "kernelspec": {
   "display_name": "Python 3 (ipykernel)",
   "language": "python",
   "name": "python3"
  },
  "language_info": {
   "codemirror_mode": {
    "name": "ipython",
    "version": 3
   },
   "file_extension": ".py",
   "mimetype": "text/x-python",
   "name": "python",
   "nbconvert_exporter": "python",
   "pygments_lexer": "ipython3",
   "version": "3.10.12"
  }
 },
 "nbformat": 4,
 "nbformat_minor": 5
}
