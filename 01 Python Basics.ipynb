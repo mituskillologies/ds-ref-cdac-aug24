{
 "cells": [
  {
   "cell_type": "code",
   "execution_count": 1,
   "id": "e10012b2-a2f4-479f-adb1-3eebd537dcfd",
   "metadata": {},
   "outputs": [
    {
     "name": "stdout",
     "output_type": "stream",
     "text": [
      "Hello World\n"
     ]
    }
   ],
   "source": [
    "print('Hello World')"
   ]
  },
  {
   "cell_type": "code",
   "execution_count": 2,
   "id": "9bbfe5d7-d12d-49eb-81f6-6cfe6f62d22b",
   "metadata": {},
   "outputs": [
    {
     "name": "stdout",
     "output_type": "stream",
     "text": [
      "Hello World\n",
      "Welcome!\n",
      "Good Bye.\n"
     ]
    }
   ],
   "source": [
    "print('Hello World')\n",
    "print('Welcome!')\n",
    "print('Good Bye.')"
   ]
  },
  {
   "cell_type": "code",
   "execution_count": 3,
   "id": "dd96769c-9b8f-49ec-98bd-ac75a32c96e8",
   "metadata": {},
   "outputs": [
    {
     "name": "stdout",
     "output_type": "stream",
     "text": [
      "100\n"
     ]
    }
   ],
   "source": [
    "num1 = 45\n",
    "num2 = 55\n",
    "add = num1 + num2\n",
    "print(add)"
   ]
  },
  {
   "cell_type": "code",
   "execution_count": 4,
   "id": "0ff94837-b9e1-4781-acee-28af7abc9d2b",
   "metadata": {},
   "outputs": [
    {
     "ename": "SyntaxError",
     "evalue": "invalid syntax (411285749.py, line 1)",
     "output_type": "error",
     "traceback": [
      "\u001b[0;36m  Cell \u001b[0;32mIn[4], line 1\u001b[0;36m\u001b[0m\n\u001b[0;31m    pass =56\u001b[0m\n\u001b[0m         ^\u001b[0m\n\u001b[0;31mSyntaxError\u001b[0m\u001b[0;31m:\u001b[0m invalid syntax\n"
     ]
    }
   ],
   "source": [
    "pass =56"
   ]
  },
  {
   "cell_type": "code",
   "execution_count": 5,
   "id": "85bae043-12a2-467e-8436-50b79745102b",
   "metadata": {},
   "outputs": [
    {
     "data": {
      "text/plain": [
       "int"
      ]
     },
     "execution_count": 5,
     "metadata": {},
     "output_type": "execute_result"
    }
   ],
   "source": [
    "num1 = 56\n",
    "type(num1)"
   ]
  },
  {
   "cell_type": "code",
   "execution_count": 6,
   "id": "e100ba42-daeb-4ed9-8ab0-b2961844cdd3",
   "metadata": {},
   "outputs": [
    {
     "data": {
      "text/plain": [
       "float"
      ]
     },
     "execution_count": 6,
     "metadata": {},
     "output_type": "execute_result"
    }
   ],
   "source": [
    "num1 = 56.36\n",
    "type(num1)"
   ]
  },
  {
   "cell_type": "code",
   "execution_count": 7,
   "id": "68a93937-7cf9-47e0-8a6a-bc5e4bba9c7b",
   "metadata": {},
   "outputs": [
    {
     "data": {
      "text/plain": [
       "str"
      ]
     },
     "execution_count": 7,
     "metadata": {},
     "output_type": "execute_result"
    }
   ],
   "source": [
    "name = 'Tushar'\n",
    "type(name)"
   ]
  },
  {
   "cell_type": "code",
   "execution_count": 8,
   "id": "cc5e4706-1504-49b0-8d92-52cd0616ca9e",
   "metadata": {},
   "outputs": [],
   "source": [
    "num1, num2, num3 = 67, 45, 29"
   ]
  },
  {
   "cell_type": "code",
   "execution_count": 9,
   "id": "c0f07e19-3c77-47c1-b0e8-b8e100a27eaf",
   "metadata": {},
   "outputs": [
    {
     "name": "stdout",
     "output_type": "stream",
     "text": [
      "67\n"
     ]
    }
   ],
   "source": [
    "print(num1)"
   ]
  },
  {
   "cell_type": "code",
   "execution_count": 10,
   "id": "27809e3c-a446-4437-9054-e532017d52c4",
   "metadata": {},
   "outputs": [],
   "source": [
    "num1, num2, num3 = 67, 'Hello', 29.46"
   ]
  },
  {
   "cell_type": "code",
   "execution_count": 11,
   "id": "a5e688d3-c947-4f55-9c68-de51eddf0d56",
   "metadata": {},
   "outputs": [],
   "source": [
    "num1 = num2 = num3 = 67"
   ]
  },
  {
   "cell_type": "code",
   "execution_count": 12,
   "id": "e6d86a88-474d-417a-b28b-7e3303cb5ef4",
   "metadata": {},
   "outputs": [],
   "source": [
    "name = 'Tushar'\n",
    "marks = 67.83"
   ]
  },
  {
   "cell_type": "code",
   "execution_count": 14,
   "id": "438bb92d-e8bc-4a9d-912b-5e3d16b5ae97",
   "metadata": {},
   "outputs": [
    {
     "name": "stdout",
     "output_type": "stream",
     "text": [
      "My name is Tushar and marks are: 67.83\n"
     ]
    }
   ],
   "source": [
    "print('My name is', name,'and marks are:', marks)"
   ]
  },
  {
   "cell_type": "code",
   "execution_count": 15,
   "id": "95049ecf-349b-4404-9e0d-002081f1068c",
   "metadata": {},
   "outputs": [
    {
     "name": "stdout",
     "output_type": "stream",
     "text": [
      "My name is Tushar and marks are: 67.830000\n"
     ]
    }
   ],
   "source": [
    "print('My name is %s and marks are: %f' %(name,marks))"
   ]
  },
  {
   "cell_type": "code",
   "execution_count": 16,
   "id": "8d15e9e0-8d53-4608-bf7f-50c6378e336b",
   "metadata": {},
   "outputs": [
    {
     "name": "stdout",
     "output_type": "stream",
     "text": [
      "My name is Tushar and marks are: 67.8\n"
     ]
    }
   ],
   "source": [
    "print('My name is %s and marks are: %.1f' %(name,marks))"
   ]
  },
  {
   "cell_type": "code",
   "execution_count": 17,
   "id": "717debb4-4257-4b90-a4fa-70556bc169d8",
   "metadata": {},
   "outputs": [
    {
     "name": "stdout",
     "output_type": "stream",
     "text": [
      "My name is Tushar and marks are: 67\n"
     ]
    }
   ],
   "source": [
    "print('My name is %s and marks are: %i' %(name,marks))"
   ]
  },
  {
   "cell_type": "code",
   "execution_count": 20,
   "id": "da764ac7-2678-4e1d-a3b7-92eeb123e9db",
   "metadata": {},
   "outputs": [
    {
     "name": "stdout",
     "output_type": "stream",
     "text": [
      "Addition is: 100\n"
     ]
    }
   ],
   "source": [
    "# This is my first program\n",
    "num1 = 45   # Number1\n",
    "num2 = 55   # Number2\n",
    "add = num1 + num2  # Perform Addition\n",
    "print('Addition is:', add)"
   ]
  },
  {
   "cell_type": "code",
   "execution_count": 21,
   "id": "194a6fc9-8974-42ed-8ffe-6b3f90988e67",
   "metadata": {},
   "outputs": [
    {
     "name": "stdout",
     "output_type": "stream",
     "text": [
      "100\n"
     ]
    }
   ],
   "source": [
    "num1 = 45;   num2 = 55;  add = num1 + num2; print(add)"
   ]
  },
  {
   "cell_type": "markdown",
   "id": "b731de96-b9df-41a7-9fab-2ccc110e9126",
   "metadata": {},
   "source": [
    "##### Operators"
   ]
  },
  {
   "cell_type": "code",
   "execution_count": 22,
   "id": "6a933a9e-d403-464e-8ebd-e9b37360d64d",
   "metadata": {},
   "outputs": [],
   "source": [
    "num1 = 67\n",
    "num2 = 19"
   ]
  },
  {
   "cell_type": "code",
   "execution_count": 26,
   "id": "8fe45eed-975a-46b4-b04f-539a71136713",
   "metadata": {},
   "outputs": [
    {
     "name": "stdout",
     "output_type": "stream",
     "text": [
      "Addition is: 86\n",
      "Subtraction is: 48\n",
      "Multiplication is: 1273\n",
      "Division is: 3.526315789473684\n",
      "Floor Division is: 3\n",
      "Modulo Division is: 10\n",
      "Raised to: 49593099428404263766544428188098203\n"
     ]
    }
   ],
   "source": [
    "# Arithmetic Operators\n",
    "add = num1 + num2 # Addition\n",
    "print('Addition is:', add)\n",
    "print('Subtraction is:', num1 - num2)  # subtraction\n",
    "print('Multiplication is:', num1 * num2)  # multiplication\n",
    "print('Division is:', num1 / num2)  # division\n",
    "print('Floor Division is:', num1 // num2)  # floor division\n",
    "print('Modulo Division is:', num1 % num2)  # modulo division\n",
    "print('Raised to:', num1 ** num2)  # power of"
   ]
  },
  {
   "cell_type": "code",
   "execution_count": 27,
   "id": "6debe342-b5f4-493e-a7e7-c55fd46ef985",
   "metadata": {},
   "outputs": [
    {
     "name": "stdout",
     "output_type": "stream",
     "text": [
      "69\n"
     ]
    }
   ],
   "source": [
    "# Assignment Operators\n",
    "num1 = 67\n",
    "num1 += 2\n",
    "print(num1)"
   ]
  },
  {
   "cell_type": "code",
   "execution_count": 28,
   "id": "5504fea4-318d-426f-8020-a1f91018b541",
   "metadata": {},
   "outputs": [
    {
     "name": "stdout",
     "output_type": "stream",
     "text": [
      "24\n"
     ]
    }
   ],
   "source": [
    "# Assignment Operators\n",
    "num1 = 12\n",
    "num1 *= 2\n",
    "print(num1)"
   ]
  },
  {
   "cell_type": "code",
   "execution_count": 31,
   "id": "692ec5f6-fe24-45c3-953d-615ae3bb7681",
   "metadata": {},
   "outputs": [
    {
     "name": "stdout",
     "output_type": "stream",
     "text": [
      "Greater Than: True\n",
      "Greater Than / Equal: True\n",
      "Less Than: False\n",
      "Less Than / Equal: False\n",
      "Equal: False\n",
      "Not Equal: True\n"
     ]
    }
   ],
   "source": [
    "# Relational Operators\n",
    "num1 = 67\n",
    "num2 = 19\n",
    "print('Greater Than:', num1 > num2)\n",
    "print('Greater Than / Equal:', num1 >= num2)\n",
    "print('Less Than:', num1 < num2)\n",
    "print('Less Than / Equal:', num1 <= num2)\n",
    "print('Equal:', num1 == num2)\n",
    "print('Not Equal:', num1 != num2)"
   ]
  },
  {
   "cell_type": "code",
   "execution_count": 32,
   "id": "835e26ec-9d6b-47bc-93ef-7d61824adcba",
   "metadata": {},
   "outputs": [
    {
     "name": "stdout",
     "output_type": "stream",
     "text": [
      "AND: True\n"
     ]
    }
   ],
   "source": [
    "# Logical Operators\n",
    "num1 = 67\n",
    "num2 = 19\n",
    "print('AND:', (num1 > num2) and (num1 < 100))"
   ]
  },
  {
   "cell_type": "code",
   "execution_count": 33,
   "id": "20965171-fe86-4dc5-a4bb-3c46dd98ce46",
   "metadata": {},
   "outputs": [
    {
     "name": "stdout",
     "output_type": "stream",
     "text": [
      "OR: True\n"
     ]
    }
   ],
   "source": [
    "print('OR:', (num1 > num2) or (num1 > 100))"
   ]
  },
  {
   "cell_type": "code",
   "execution_count": 34,
   "id": "a517cab2-9592-4870-a039-2150dc9c3a37",
   "metadata": {},
   "outputs": [
    {
     "data": {
      "text/plain": [
       "True"
      ]
     },
     "execution_count": 34,
     "metadata": {},
     "output_type": "execute_result"
    }
   ],
   "source": [
    "# Membership selection\n",
    "name = 'Tushar'\n",
    "'u' in name"
   ]
  },
  {
   "cell_type": "code",
   "execution_count": 35,
   "id": "eca31570-0d77-40cb-9551-27d03ec1028d",
   "metadata": {},
   "outputs": [
    {
     "data": {
      "text/plain": [
       "False"
      ]
     },
     "execution_count": 35,
     "metadata": {},
     "output_type": "execute_result"
    }
   ],
   "source": [
    "x = [5,4,2,5,6,7]\n",
    "9 in x"
   ]
  },
  {
   "cell_type": "code",
   "execution_count": 36,
   "id": "380a934c-ef4f-45aa-b6d6-10acb9e9f999",
   "metadata": {},
   "outputs": [
    {
     "data": {
      "text/plain": [
       "True"
      ]
     },
     "execution_count": 36,
     "metadata": {},
     "output_type": "execute_result"
    }
   ],
   "source": [
    "19 not in x"
   ]
  },
  {
   "cell_type": "code",
   "execution_count": 37,
   "id": "fe471c70-ddbc-4406-97db-386c2d1f8bb6",
   "metadata": {},
   "outputs": [
    {
     "data": {
      "text/plain": [
       "False"
      ]
     },
     "execution_count": 37,
     "metadata": {},
     "output_type": "execute_result"
    }
   ],
   "source": [
    "x = [5,4, 'Pune', 45, 6, 7.45]\n",
    "'Mumbai' in x"
   ]
  },
  {
   "cell_type": "markdown",
   "id": "09777c42-4131-4197-b8ab-b56c66d3f607",
   "metadata": {},
   "source": [
    "##### User input"
   ]
  },
  {
   "cell_type": "code",
   "execution_count": 40,
   "id": "735a3315-6862-49cd-86ac-3b690f74cf72",
   "metadata": {},
   "outputs": [
    {
     "name": "stdin",
     "output_type": "stream",
     "text": [
      "Enter the number:  56\n"
     ]
    },
    {
     "name": "stdout",
     "output_type": "stream",
     "text": [
      "You have entered: 565656\n"
     ]
    }
   ],
   "source": [
    "num = input('Enter the number: ')\n",
    "result = num * 3\n",
    "print('You have entered:', result)"
   ]
  },
  {
   "cell_type": "code",
   "execution_count": 41,
   "id": "673bff26-de5a-425a-b50b-5a61b6597748",
   "metadata": {},
   "outputs": [
    {
     "name": "stdin",
     "output_type": "stream",
     "text": [
      "Enter the number:  56\n"
     ]
    },
    {
     "name": "stdout",
     "output_type": "stream",
     "text": [
      "You have entered: 168\n"
     ]
    }
   ],
   "source": [
    "num = int(input('Enter the number: '))\n",
    "result = num * 3\n",
    "print('You have entered:', result)"
   ]
  },
  {
   "cell_type": "code",
   "execution_count": 42,
   "id": "4033cc84-a14d-45ed-bfa0-b92bae763a4e",
   "metadata": {},
   "outputs": [
    {
     "name": "stdin",
     "output_type": "stream",
     "text": [
      "Enter first number:  45\n",
      "Enter second number:  55\n"
     ]
    },
    {
     "name": "stdout",
     "output_type": "stream",
     "text": [
      "Addition is:  100\n"
     ]
    }
   ],
   "source": [
    "num1 = int(input('Enter first number: '))\n",
    "num2 = int(input('Enter second number: '))\n",
    "add = num1 + num2\n",
    "print('Addition is: ', add)"
   ]
  },
  {
   "cell_type": "code",
   "execution_count": null,
   "id": "a1154bae-849c-4ce8-8f65-1dddbe1a0f5a",
   "metadata": {},
   "outputs": [],
   "source": []
  }
 ],
 "metadata": {
  "kernelspec": {
   "display_name": "Python 3 (ipykernel)",
   "language": "python",
   "name": "python3"
  },
  "language_info": {
   "codemirror_mode": {
    "name": "ipython",
    "version": 3
   },
   "file_extension": ".py",
   "mimetype": "text/x-python",
   "name": "python",
   "nbconvert_exporter": "python",
   "pygments_lexer": "ipython3",
   "version": "3.10.12"
  }
 },
 "nbformat": 4,
 "nbformat_minor": 5
}
