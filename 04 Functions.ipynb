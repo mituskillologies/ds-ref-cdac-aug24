{
 "cells": [
  {
   "cell_type": "markdown",
   "id": "da02f03f-7ed6-4ffd-b2a6-d5d5ec64a767",
   "metadata": {},
   "source": [
    "##### Simple Function"
   ]
  },
  {
   "cell_type": "code",
   "execution_count": 4,
   "id": "2216db2c-3871-4a0e-a48e-4acb1ebd08ec",
   "metadata": {},
   "outputs": [],
   "source": [
    "def show():\n",
    "    print('Hello World')\n",
    "    print('Good Bye')"
   ]
  },
  {
   "cell_type": "code",
   "execution_count": 5,
   "id": "c1283af0-64b7-4dff-86ce-81b6e316785f",
   "metadata": {},
   "outputs": [
    {
     "name": "stdout",
     "output_type": "stream",
     "text": [
      "Hello World\n",
      "Good Bye\n"
     ]
    }
   ],
   "source": [
    "show()"
   ]
  },
  {
   "cell_type": "markdown",
   "id": "97e6554e-c189-4446-91de-0d4c78ee536e",
   "metadata": {},
   "source": [
    "##### Parameterized Function"
   ]
  },
  {
   "cell_type": "code",
   "execution_count": 7,
   "id": "f5d8f1bb-0636-49b1-83c3-5f34d9930ce7",
   "metadata": {},
   "outputs": [],
   "source": [
    "def square(n):\n",
    "    sq = n * n\n",
    "    print(sq)"
   ]
  },
  {
   "cell_type": "code",
   "execution_count": 8,
   "id": "a704def1-32d3-45f5-944c-3fbb9a9c12cc",
   "metadata": {},
   "outputs": [
    {
     "name": "stdout",
     "output_type": "stream",
     "text": [
      "81\n"
     ]
    }
   ],
   "source": [
    "square(9)"
   ]
  },
  {
   "cell_type": "markdown",
   "id": "795016dd-1e75-4334-a98b-f2b46a0bc0d8",
   "metadata": {},
   "source": [
    "##### Returning the values"
   ]
  },
  {
   "cell_type": "code",
   "execution_count": 10,
   "id": "574930bb-4bee-4e70-aac8-3c7f1980794d",
   "metadata": {},
   "outputs": [],
   "source": [
    "def compare(x, y):\n",
    "    if x > y:\n",
    "        return x\n",
    "    else:\n",
    "        return y"
   ]
  },
  {
   "cell_type": "code",
   "execution_count": 12,
   "id": "e94603fb-ebe6-40c4-a916-61f6600fec55",
   "metadata": {},
   "outputs": [
    {
     "data": {
      "text/plain": [
       "7"
      ]
     },
     "execution_count": 12,
     "metadata": {},
     "output_type": "execute_result"
    }
   ],
   "source": [
    "t = compare(5, 7)\n",
    "t"
   ]
  },
  {
   "cell_type": "code",
   "execution_count": 13,
   "id": "65976079-1e21-4150-ac05-b55e1b974224",
   "metadata": {},
   "outputs": [
    {
     "data": {
      "text/plain": [
       "40"
      ]
     },
     "execution_count": 13,
     "metadata": {},
     "output_type": "execute_result"
    }
   ],
   "source": [
    "5 * compare(4, 8)"
   ]
  },
  {
   "cell_type": "code",
   "execution_count": 14,
   "id": "c1b4ccef-41e1-4cf4-ac9e-f3f0f134f064",
   "metadata": {},
   "outputs": [],
   "source": [
    "def calc(num):\n",
    "    sq = num * num\n",
    "    cu = sq * num\n",
    "    return sq, cu"
   ]
  },
  {
   "cell_type": "code",
   "execution_count": 15,
   "id": "93af7001-85da-4db1-82ca-df5e8bed6de9",
   "metadata": {},
   "outputs": [
    {
     "name": "stdout",
     "output_type": "stream",
     "text": [
      "Square and cube are: (9, 27)\n"
     ]
    }
   ],
   "source": [
    "print('Square and cube are:', calc(3))"
   ]
  },
  {
   "cell_type": "code",
   "execution_count": 16,
   "id": "9b6c94d3-e40d-4c5e-b24b-b837e2d44beb",
   "metadata": {},
   "outputs": [
    {
     "name": "stdout",
     "output_type": "stream",
     "text": [
      "Square and cube are: 81 729\n"
     ]
    }
   ],
   "source": [
    "x, y = calc(9)\n",
    "print('Square and cube are:', x, y)"
   ]
  },
  {
   "cell_type": "code",
   "execution_count": 18,
   "id": "363bdc76-824d-4cb4-8827-7de99629a558",
   "metadata": {},
   "outputs": [
    {
     "name": "stdout",
     "output_type": "stream",
     "text": [
      "Help on method_descriptor:\n",
      "\n",
      "pop(self, index=-1, /)\n",
      "    Remove and return item at index (default last).\n",
      "    \n",
      "    Raises IndexError if list is empty or index is out of range.\n",
      "\n"
     ]
    }
   ],
   "source": [
    "help(list.pop)"
   ]
  },
  {
   "cell_type": "code",
   "execution_count": 20,
   "id": "6d4ef28d-8957-4e36-a1d7-9218a067aff7",
   "metadata": {},
   "outputs": [
    {
     "ename": "TypeError",
     "evalue": "calc() takes 1 positional argument but 2 were given",
     "output_type": "error",
     "traceback": [
      "\u001b[0;31m---------------------------------------------------------------------------\u001b[0m",
      "\u001b[0;31mTypeError\u001b[0m                                 Traceback (most recent call last)",
      "Cell \u001b[0;32mIn[20], line 1\u001b[0m\n\u001b[0;32m----> 1\u001b[0m \u001b[43mcalc\u001b[49m\u001b[43m(\u001b[49m\u001b[38;5;241;43m6\u001b[39;49m\u001b[43m,\u001b[49m\u001b[38;5;241;43m8\u001b[39;49m\u001b[43m)\u001b[49m\n",
      "\u001b[0;31mTypeError\u001b[0m: calc() takes 1 positional argument but 2 were given"
     ]
    }
   ],
   "source": [
    "calc(6,8)"
   ]
  },
  {
   "cell_type": "markdown",
   "id": "1b9f12f0-cd4e-43f8-96ce-ca86118667be",
   "metadata": {},
   "source": [
    "##### Default parameters"
   ]
  },
  {
   "cell_type": "code",
   "execution_count": 22,
   "id": "96f810cf-fe29-4f9f-ac82-c9029898b915",
   "metadata": {},
   "outputs": [],
   "source": [
    "def add(x=5, y=7, z=3):\n",
    "    a = x + y + z\n",
    "    return a"
   ]
  },
  {
   "cell_type": "code",
   "execution_count": 28,
   "id": "6e533a42-15e5-4690-bcad-8d316f7f0c8e",
   "metadata": {},
   "outputs": [
    {
     "name": "stdout",
     "output_type": "stream",
     "text": [
      "Call-1 12\n",
      "Call-2 13\n",
      "Call-3 14\n",
      "Call-4 15\n",
      "Call-5 12\n"
     ]
    }
   ],
   "source": [
    "print('Call-1', add(4,6,2))\n",
    "print('Call-2', add(4,6))\n",
    "print('Call-3', add(4))\n",
    "print('Call-4', add())\n",
    "print('Call-5', add(y=4))"
   ]
  },
  {
   "cell_type": "code",
   "execution_count": null,
   "id": "6c07d1aa-0e56-4e62-b699-7257c6441e3e",
   "metadata": {},
   "outputs": [],
   "source": []
  }
 ],
 "metadata": {
  "kernelspec": {
   "display_name": "Python 3 (ipykernel)",
   "language": "python",
   "name": "python3"
  },
  "language_info": {
   "codemirror_mode": {
    "name": "ipython",
    "version": 3
   },
   "file_extension": ".py",
   "mimetype": "text/x-python",
   "name": "python",
   "nbconvert_exporter": "python",
   "pygments_lexer": "ipython3",
   "version": "3.10.12"
  }
 },
 "nbformat": 4,
 "nbformat_minor": 5
}
