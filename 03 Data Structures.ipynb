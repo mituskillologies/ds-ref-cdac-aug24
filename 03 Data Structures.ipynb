{
 "cells": [
  {
   "cell_type": "code",
   "execution_count": 1,
   "id": "64a990e5-0931-49f5-98f9-d11ab34e3126",
   "metadata": {},
   "outputs": [
    {
     "data": {
      "text/plain": [
       "list"
      ]
     },
     "execution_count": 1,
     "metadata": {},
     "output_type": "execute_result"
    }
   ],
   "source": [
    "num = [45,24,76,41,84,29,62]\n",
    "type(num)"
   ]
  },
  {
   "cell_type": "code",
   "execution_count": 2,
   "id": "11197083-954a-4aa6-a751-9e2399de698b",
   "metadata": {},
   "outputs": [
    {
     "data": {
      "text/plain": [
       "tuple"
      ]
     },
     "execution_count": 2,
     "metadata": {},
     "output_type": "execute_result"
    }
   ],
   "source": [
    "num = (45,24,76,41,84,29,62)\n",
    "type(num)"
   ]
  },
  {
   "cell_type": "code",
   "execution_count": 3,
   "id": "277e44b8-80d0-4d96-98fb-a23b813fe242",
   "metadata": {},
   "outputs": [
    {
     "data": {
      "text/plain": [
       "set"
      ]
     },
     "execution_count": 3,
     "metadata": {},
     "output_type": "execute_result"
    }
   ],
   "source": [
    "num = {45,24,76,41,84,29,62}\n",
    "type(num)"
   ]
  },
  {
   "cell_type": "code",
   "execution_count": 5,
   "id": "9c7061bf-73d3-46d0-94a2-2d8fde2de403",
   "metadata": {},
   "outputs": [
    {
     "data": {
      "text/plain": [
       "dict"
      ]
     },
     "execution_count": 5,
     "metadata": {},
     "output_type": "execute_result"
    }
   ],
   "source": [
    "num = {45:24,76:41,84:29,62:78}\n",
    "type(num)"
   ]
  },
  {
   "cell_type": "markdown",
   "id": "754a1da9-fb93-4ce0-904b-fe5cb491d60c",
   "metadata": {},
   "source": [
    "##### List"
   ]
  },
  {
   "cell_type": "code",
   "execution_count": 7,
   "id": "b7bfb4b6-a739-4b40-bf50-cb18409bfaa6",
   "metadata": {},
   "outputs": [
    {
     "data": {
      "text/plain": [
       "list"
      ]
     },
     "execution_count": 7,
     "metadata": {},
     "output_type": "execute_result"
    }
   ],
   "source": [
    "num = [45,24,76,41,84,29,62,28,94,55]\n",
    "type(num)"
   ]
  },
  {
   "cell_type": "code",
   "execution_count": 8,
   "id": "ba796faf-8622-4167-b0b7-a70377f446a4",
   "metadata": {},
   "outputs": [
    {
     "data": {
      "text/plain": [
       "45"
      ]
     },
     "execution_count": 8,
     "metadata": {},
     "output_type": "execute_result"
    }
   ],
   "source": [
    "num[0]"
   ]
  },
  {
   "cell_type": "code",
   "execution_count": 9,
   "id": "27082b75-a77a-4e5b-b92b-4cc1999408ef",
   "metadata": {},
   "outputs": [
    {
     "data": {
      "text/plain": [
       "[47, 24, 76, 41, 84, 29, 62, 28, 94, 55]"
      ]
     },
     "execution_count": 9,
     "metadata": {},
     "output_type": "execute_result"
    }
   ],
   "source": [
    "num[0] = 47\n",
    "num"
   ]
  },
  {
   "cell_type": "code",
   "execution_count": 10,
   "id": "7bd161f1-ce82-4710-91a6-57f1c833664b",
   "metadata": {},
   "outputs": [
    {
     "data": {
      "text/plain": [
       "[67, 89.05, True, 'Pune', 28]"
      ]
     },
     "execution_count": 10,
     "metadata": {},
     "output_type": "execute_result"
    }
   ],
   "source": [
    "mixed = [67, 89.05, True, 'Pune', 28]\n",
    "mixed"
   ]
  },
  {
   "cell_type": "code",
   "execution_count": 11,
   "id": "152c2195-9491-43b8-88da-4185b955a318",
   "metadata": {},
   "outputs": [
    {
     "data": {
      "text/plain": [
       "94"
      ]
     },
     "execution_count": 11,
     "metadata": {},
     "output_type": "execute_result"
    }
   ],
   "source": [
    "num[-2]"
   ]
  },
  {
   "cell_type": "code",
   "execution_count": 12,
   "id": "e589fca3-5d57-4b95-b75f-072bea7df3e9",
   "metadata": {},
   "outputs": [
    {
     "data": {
      "text/plain": [
       "[47, 24, 76, 41, 84, 29, 62, 28, 94, 55]"
      ]
     },
     "execution_count": 12,
     "metadata": {},
     "output_type": "execute_result"
    }
   ],
   "source": [
    "num"
   ]
  },
  {
   "cell_type": "code",
   "execution_count": 13,
   "id": "81214f95-d361-4c82-a116-98ec370e63f9",
   "metadata": {},
   "outputs": [
    {
     "name": "stdout",
     "output_type": "stream",
     "text": [
      "47\n",
      "24\n",
      "76\n",
      "41\n",
      "84\n",
      "29\n",
      "62\n",
      "28\n",
      "94\n",
      "55\n"
     ]
    }
   ],
   "source": [
    "for n in num:\n",
    "    print(n)"
   ]
  },
  {
   "cell_type": "code",
   "execution_count": 14,
   "id": "16bf1100-083d-4cd9-93a7-6dd4452a7a99",
   "metadata": {},
   "outputs": [
    {
     "name": "stdout",
     "output_type": "stream",
     "text": [
      "47\n",
      "41\n",
      "29\n",
      "55\n"
     ]
    }
   ],
   "source": [
    "for n in num:\n",
    "    if n % 2 == 1:\n",
    "        print(n)"
   ]
  },
  {
   "cell_type": "code",
   "execution_count": 15,
   "id": "68329f7c-a752-4e82-94e6-f5225f3729fe",
   "metadata": {},
   "outputs": [
    {
     "data": {
      "text/plain": [
       "True"
      ]
     },
     "execution_count": 15,
     "metadata": {},
     "output_type": "execute_result"
    }
   ],
   "source": [
    "29 in num"
   ]
  },
  {
   "cell_type": "code",
   "execution_count": 16,
   "id": "a3521d4b-1e32-4c76-9f0c-c0dbec8d409e",
   "metadata": {},
   "outputs": [
    {
     "data": {
      "text/plain": [
       "True"
      ]
     },
     "execution_count": 16,
     "metadata": {},
     "output_type": "execute_result"
    }
   ],
   "source": [
    "38 not in num"
   ]
  },
  {
   "cell_type": "code",
   "execution_count": 17,
   "id": "8328e289-0365-467e-913b-3f57f1a4f189",
   "metadata": {},
   "outputs": [],
   "source": [
    "e = []"
   ]
  },
  {
   "cell_type": "code",
   "execution_count": 18,
   "id": "829b2d95-d987-427d-93dd-65f5733b2c4d",
   "metadata": {},
   "outputs": [
    {
     "data": {
      "text/plain": [
       "[26]"
      ]
     },
     "execution_count": 18,
     "metadata": {},
     "output_type": "execute_result"
    }
   ],
   "source": [
    "e += [26]\n",
    "e"
   ]
  },
  {
   "cell_type": "code",
   "execution_count": 19,
   "id": "2cc070b0-e5d7-4d46-9da4-ae0e1a945d9f",
   "metadata": {},
   "outputs": [
    {
     "data": {
      "text/plain": [
       "[26, 78]"
      ]
     },
     "execution_count": 19,
     "metadata": {},
     "output_type": "execute_result"
    }
   ],
   "source": [
    "e += [78]\n",
    "e"
   ]
  },
  {
   "cell_type": "code",
   "execution_count": 20,
   "id": "8ed28503-8a3b-47be-b2b7-2c6f80f177a8",
   "metadata": {},
   "outputs": [
    {
     "data": {
      "text/plain": [
       "[41, 84, 29, 62, 28]"
      ]
     },
     "execution_count": 20,
     "metadata": {},
     "output_type": "execute_result"
    }
   ],
   "source": [
    "# slicing\n",
    "x = num[3:8]\n",
    "x"
   ]
  },
  {
   "cell_type": "code",
   "execution_count": 21,
   "id": "492fe359-3d28-4d45-b166-09faed49b4e1",
   "metadata": {},
   "outputs": [
    {
     "data": {
      "text/plain": [
       "[47, 24, 76, 41, 84, 29, 62, 28, 94, 55]"
      ]
     },
     "execution_count": 21,
     "metadata": {},
     "output_type": "execute_result"
    }
   ],
   "source": [
    "num"
   ]
  },
  {
   "cell_type": "code",
   "execution_count": 22,
   "id": "3df3f8cc-bc3e-40b1-b306-81bc280493de",
   "metadata": {},
   "outputs": [
    {
     "data": {
      "text/plain": [
       "[29, 62, 28, 94, 55]"
      ]
     },
     "execution_count": 22,
     "metadata": {},
     "output_type": "execute_result"
    }
   ],
   "source": [
    "num[5:]"
   ]
  },
  {
   "cell_type": "code",
   "execution_count": 23,
   "id": "aa3dc267-633e-487d-909b-abf8dc44c1c8",
   "metadata": {},
   "outputs": [
    {
     "data": {
      "text/plain": [
       "[47, 24, 76, 41, 84, 29]"
      ]
     },
     "execution_count": 23,
     "metadata": {},
     "output_type": "execute_result"
    }
   ],
   "source": [
    "num[:6]"
   ]
  },
  {
   "cell_type": "code",
   "execution_count": 24,
   "id": "b28abd9b-126b-4f51-bf12-08808f82b61b",
   "metadata": {},
   "outputs": [
    {
     "data": {
      "text/plain": [
       "[4, 5, 6, 7, 1, 2]"
      ]
     },
     "execution_count": 24,
     "metadata": {},
     "output_type": "execute_result"
    }
   ],
   "source": [
    "num1 = [4,5,6]\n",
    "num2 = [7,1,2]\n",
    "x = num1 + num2\n",
    "x"
   ]
  },
  {
   "cell_type": "code",
   "execution_count": 25,
   "id": "2359eb50-6755-4e79-b980-0c3f36b052aa",
   "metadata": {},
   "outputs": [
    {
     "data": {
      "text/plain": [
       "[4, 5, 6, 4, 5, 6, 4, 5, 6]"
      ]
     },
     "execution_count": 25,
     "metadata": {},
     "output_type": "execute_result"
    }
   ],
   "source": [
    "num1 * 3"
   ]
  },
  {
   "cell_type": "code",
   "execution_count": 26,
   "id": "ff7f79d4-d232-41e5-acb8-9df646145c05",
   "metadata": {},
   "outputs": [
    {
     "data": {
      "text/plain": [
       "10"
      ]
     },
     "execution_count": 26,
     "metadata": {},
     "output_type": "execute_result"
    }
   ],
   "source": [
    "len(num)"
   ]
  },
  {
   "cell_type": "code",
   "execution_count": 27,
   "id": "985593b8-3b71-41cc-a0e1-3ce110cbdc53",
   "metadata": {},
   "outputs": [
    {
     "data": {
      "text/plain": [
       "(24, 94, 540)"
      ]
     },
     "execution_count": 27,
     "metadata": {},
     "output_type": "execute_result"
    }
   ],
   "source": [
    "min(num), max(num), sum(num)"
   ]
  },
  {
   "cell_type": "code",
   "execution_count": 28,
   "id": "bacaaede-b3f5-46ce-b012-915cb7260e77",
   "metadata": {},
   "outputs": [
    {
     "data": {
      "text/plain": [
       "[24, 28, 29, 41, 47, 55, 62, 76, 84, 94]"
      ]
     },
     "execution_count": 28,
     "metadata": {},
     "output_type": "execute_result"
    }
   ],
   "source": [
    "sorted(num)"
   ]
  },
  {
   "cell_type": "code",
   "execution_count": 29,
   "id": "d4c30943-95d1-49d5-a6e1-9049e3a7e79f",
   "metadata": {},
   "outputs": [
    {
     "data": {
      "text/plain": [
       "[94, 84, 76, 62, 55, 47, 41, 29, 28, 24]"
      ]
     },
     "execution_count": 29,
     "metadata": {},
     "output_type": "execute_result"
    }
   ],
   "source": [
    "sorted(num, reverse=True)"
   ]
  },
  {
   "cell_type": "code",
   "execution_count": 30,
   "id": "08ae216a-6d19-46d5-bd94-44960dd59ef6",
   "metadata": {},
   "outputs": [
    {
     "data": {
      "text/plain": [
       "[47, 24, 76, 41, 84, 29, 62, 28, 94, 55]"
      ]
     },
     "execution_count": 30,
     "metadata": {},
     "output_type": "execute_result"
    }
   ],
   "source": [
    "num"
   ]
  },
  {
   "cell_type": "code",
   "execution_count": 31,
   "id": "e87d6a85-8d89-4db2-ac15-d2783ce7637f",
   "metadata": {},
   "outputs": [
    {
     "data": {
      "text/plain": [
       "[47, 24, 76, 41, 84, 29, 62, 28, 94, 55, 26]"
      ]
     },
     "execution_count": 31,
     "metadata": {},
     "output_type": "execute_result"
    }
   ],
   "source": [
    "num.append(26)\n",
    "num"
   ]
  },
  {
   "cell_type": "code",
   "execution_count": 32,
   "id": "42f2db02-29e2-4d40-a01e-656422fd5465",
   "metadata": {},
   "outputs": [
    {
     "data": {
      "text/plain": [
       "[47, 24, 76, 41, 84, 62, 28, 94, 55, 26]"
      ]
     },
     "execution_count": 32,
     "metadata": {},
     "output_type": "execute_result"
    }
   ],
   "source": [
    "num.remove(29)\n",
    "num"
   ]
  },
  {
   "cell_type": "code",
   "execution_count": 33,
   "id": "e1857fe7-5b22-45b9-ba9c-fa09cca67ba5",
   "metadata": {},
   "outputs": [
    {
     "data": {
      "text/plain": [
       "[47, 24, 41, 84, 62, 28, 94, 55, 26]"
      ]
     },
     "execution_count": 33,
     "metadata": {},
     "output_type": "execute_result"
    }
   ],
   "source": [
    "num.pop(2)\n",
    "num"
   ]
  },
  {
   "cell_type": "code",
   "execution_count": 34,
   "id": "1901b94d-e87c-41f4-bf5f-39420c37eb8a",
   "metadata": {},
   "outputs": [
    {
     "data": {
      "text/plain": [
       "[47, 24, 41, 58, 84, 62, 28, 94, 55, 26]"
      ]
     },
     "execution_count": 34,
     "metadata": {},
     "output_type": "execute_result"
    }
   ],
   "source": [
    "num.insert(3, 58)\n",
    "num"
   ]
  },
  {
   "cell_type": "code",
   "execution_count": 35,
   "id": "82b82adb-3f25-415a-a5fb-fe58a615779a",
   "metadata": {},
   "outputs": [
    {
     "data": {
      "text/plain": [
       "[26, 55, 94, 28, 62, 84, 58, 41, 24, 47]"
      ]
     },
     "execution_count": 35,
     "metadata": {},
     "output_type": "execute_result"
    }
   ],
   "source": [
    "num.reverse()\n",
    "num"
   ]
  },
  {
   "cell_type": "code",
   "execution_count": 36,
   "id": "5d166013-54cf-418a-8e70-af86a7549802",
   "metadata": {},
   "outputs": [
    {
     "data": {
      "text/plain": [
       "[24, 26, 28, 41, 47, 55, 58, 62, 84, 94]"
      ]
     },
     "execution_count": 36,
     "metadata": {},
     "output_type": "execute_result"
    }
   ],
   "source": [
    "num.sort()\n",
    "num"
   ]
  },
  {
   "cell_type": "code",
   "execution_count": 37,
   "id": "c0807cf4-7bde-4d83-bc07-8b5161ca6495",
   "metadata": {},
   "outputs": [
    {
     "data": {
      "text/plain": [
       "[]"
      ]
     },
     "execution_count": 37,
     "metadata": {},
     "output_type": "execute_result"
    }
   ],
   "source": [
    "num.clear()\n",
    "num"
   ]
  },
  {
   "cell_type": "code",
   "execution_count": 38,
   "id": "7a88416d-37b0-4a88-bf4e-c2bca57484f8",
   "metadata": {},
   "outputs": [],
   "source": [
    "del num"
   ]
  },
  {
   "cell_type": "markdown",
   "id": "b732e692-2173-4083-b487-81da307c3101",
   "metadata": {},
   "source": [
    "This is a list of some metallic elements.\n",
    "metals = [ 'silver','gold', ... ]\n",
    "• Make a new list that is almost identical to the\n",
    "metals list: the new contains the same items, in\n",
    "the same order, except that it does NOT contain\n",
    "the item 'copper'."
   ]
  },
  {
   "cell_type": "code",
   "execution_count": 39,
   "id": "8119287a-8dd4-4fcd-b554-7a21117f7e9b",
   "metadata": {},
   "outputs": [],
   "source": [
    "metals = ['silver','gold','copper','aluminium','gold',\n",
    "          'silver','silver','copper','aluminium','copper',\n",
    "          'gold','copper','silver','gold']"
   ]
  },
  {
   "cell_type": "code",
   "execution_count": 40,
   "id": "bb65f90d-608c-4309-a300-10870452b101",
   "metadata": {},
   "outputs": [
    {
     "name": "stdout",
     "output_type": "stream",
     "text": [
      "['silver', 'gold', 'aluminium', 'gold', 'silver', 'silver', 'aluminium', 'gold', 'silver', 'gold']\n"
     ]
    }
   ],
   "source": [
    "new_metals= []\n",
    "for metal in metals:\n",
    "    if metal != 'copper':\n",
    "        new_metals.append(metal)\n",
    "\n",
    "print(new_metals)"
   ]
  },
  {
   "cell_type": "code",
   "execution_count": 41,
   "id": "1978d165-9964-4042-b5b1-ed503e597a44",
   "metadata": {},
   "outputs": [],
   "source": [
    "num = [45,32,15,67,88,55]"
   ]
  },
  {
   "cell_type": "code",
   "execution_count": 42,
   "id": "4723d341-7d22-482b-82e1-888a10b236e8",
   "metadata": {},
   "outputs": [
    {
     "data": {
      "text/plain": [
       "[22.5, 16.0, 7.5, 33.5, 44.0, 27.5]"
      ]
     },
     "execution_count": 42,
     "metadata": {},
     "output_type": "execute_result"
    }
   ],
   "source": [
    "new = [n/2 for n in num]\n",
    "new"
   ]
  },
  {
   "cell_type": "code",
   "execution_count": 43,
   "id": "5add700d-1fca-481a-92e6-9a6dd56c2bee",
   "metadata": {},
   "outputs": [
    {
     "data": {
      "text/plain": [
       "[45, 15, 67, 55]"
      ]
     },
     "execution_count": 43,
     "metadata": {},
     "output_type": "execute_result"
    }
   ],
   "source": [
    "new = [n for n in num if n % 2 == 1]\n",
    "new"
   ]
  },
  {
   "cell_type": "code",
   "execution_count": 44,
   "id": "46361dca-e15e-4fd4-b9b0-83cc802203c4",
   "metadata": {},
   "outputs": [
    {
     "data": {
      "text/plain": [
       "[22.5, 7.5, 33.5, 27.5]"
      ]
     },
     "execution_count": 44,
     "metadata": {},
     "output_type": "execute_result"
    }
   ],
   "source": [
    "new = [n/2 for n in num if n % 2 == 1]\n",
    "new"
   ]
  },
  {
   "cell_type": "code",
   "execution_count": 45,
   "id": "01675cc3-b5ec-48f6-a414-920ad92b24cb",
   "metadata": {},
   "outputs": [
    {
     "data": {
      "text/plain": [
       "['silver',\n",
       " 'gold',\n",
       " 'aluminium',\n",
       " 'gold',\n",
       " 'silver',\n",
       " 'silver',\n",
       " 'aluminium',\n",
       " 'gold',\n",
       " 'silver',\n",
       " 'gold']"
      ]
     },
     "execution_count": 45,
     "metadata": {},
     "output_type": "execute_result"
    }
   ],
   "source": [
    "new_metals = [metal for metal in metals if metal != 'copper']\n",
    "new_metals"
   ]
  },
  {
   "cell_type": "code",
   "execution_count": 62,
   "id": "38244112-8a6a-4093-93e9-48fb74220190",
   "metadata": {},
   "outputs": [],
   "source": [
    "num = [5, 6, 2, 8, 9, 1, 3, 7, 4, 0]"
   ]
  },
  {
   "cell_type": "code",
   "execution_count": 63,
   "id": "fcc59245-6d6b-495f-a7e6-0210f5de704a",
   "metadata": {},
   "outputs": [
    {
     "data": {
      "text/plain": [
       "[5, 6, 2, 8, 9, 0, 1, 3, 4, 7]"
      ]
     },
     "execution_count": 63,
     "metadata": {},
     "output_type": "execute_result"
    }
   ],
   "source": [
    "lower = num[:5]\n",
    "higher = num[5:]\n",
    "higher.sort()\n",
    "new = lower + higher\n",
    "new"
   ]
  },
  {
   "cell_type": "code",
   "execution_count": 64,
   "id": "42f211d1-567f-4ade-a5ba-d12f2dc5a996",
   "metadata": {},
   "outputs": [
    {
     "data": {
      "text/plain": [
       "[5, 6, 2, 8, 9, 1, 3, 7, 4, 0]"
      ]
     },
     "execution_count": 64,
     "metadata": {},
     "output_type": "execute_result"
    }
   ],
   "source": [
    "num"
   ]
  },
  {
   "cell_type": "code",
   "execution_count": 65,
   "id": "bb480947-3acf-455a-97b7-a23e32bbc88e",
   "metadata": {},
   "outputs": [
    {
     "data": {
      "text/plain": [
       "[5, 6, 2, 8, 9, 0, 1, 3, 4, 7]"
      ]
     },
     "execution_count": 65,
     "metadata": {},
     "output_type": "execute_result"
    }
   ],
   "source": [
    "num[:5] + sorted(num[5:])"
   ]
  },
  {
   "cell_type": "code",
   "execution_count": 66,
   "id": "43150bd1-73f2-4ba2-8b14-96028b435740",
   "metadata": {},
   "outputs": [
    {
     "data": {
      "text/plain": [
       "[5, 6, 2, 8, 9, 1, 3, 7, 4, 0]"
      ]
     },
     "execution_count": 66,
     "metadata": {},
     "output_type": "execute_result"
    }
   ],
   "source": [
    "num"
   ]
  },
  {
   "cell_type": "markdown",
   "id": "e20a89e8-2c1d-452a-8ff3-d15256ed2040",
   "metadata": {},
   "source": [
    "##### Tuple"
   ]
  },
  {
   "cell_type": "code",
   "execution_count": 68,
   "id": "b295bbd1-7a89-4600-b142-058270a9bb85",
   "metadata": {},
   "outputs": [],
   "source": [
    "num = (34, 12, 67, 83, 46, 41, 10)"
   ]
  },
  {
   "cell_type": "code",
   "execution_count": 69,
   "id": "a1f9fdfb-6d08-464d-847a-d38bb414a417",
   "metadata": {},
   "outputs": [
    {
     "data": {
      "text/plain": [
       "tuple"
      ]
     },
     "execution_count": 69,
     "metadata": {},
     "output_type": "execute_result"
    }
   ],
   "source": [
    "type(num)"
   ]
  },
  {
   "cell_type": "code",
   "execution_count": 70,
   "id": "f33220f4-8a95-481d-844e-6a13a69d8aef",
   "metadata": {},
   "outputs": [
    {
     "data": {
      "text/plain": [
       "10"
      ]
     },
     "execution_count": 70,
     "metadata": {},
     "output_type": "execute_result"
    }
   ],
   "source": [
    "num[6]"
   ]
  },
  {
   "cell_type": "code",
   "execution_count": 71,
   "id": "69982bd3-dacf-4e24-ad4b-86e03fcf1074",
   "metadata": {},
   "outputs": [
    {
     "ename": "TypeError",
     "evalue": "'tuple' object does not support item assignment",
     "output_type": "error",
     "traceback": [
      "\u001b[0;31m---------------------------------------------------------------------------\u001b[0m",
      "\u001b[0;31mTypeError\u001b[0m                                 Traceback (most recent call last)",
      "Cell \u001b[0;32mIn[71], line 1\u001b[0m\n\u001b[0;32m----> 1\u001b[0m \u001b[43mnum\u001b[49m\u001b[43m[\u001b[49m\u001b[38;5;241;43m3\u001b[39;49m\u001b[43m]\u001b[49m \u001b[38;5;241m=\u001b[39m \u001b[38;5;241m56\u001b[39m\n",
      "\u001b[0;31mTypeError\u001b[0m: 'tuple' object does not support item assignment"
     ]
    }
   ],
   "source": [
    "num[3] = 56"
   ]
  },
  {
   "cell_type": "code",
   "execution_count": 72,
   "id": "1a6a733e-d96b-4b26-8ae2-93cb49b01ede",
   "metadata": {},
   "outputs": [],
   "source": [
    "num = 34, 12, 67, 83, 46, 41, 10"
   ]
  },
  {
   "cell_type": "markdown",
   "id": "f44443fc-dec8-485c-b764-eb4347a01d56",
   "metadata": {},
   "source": [
    "##### Set"
   ]
  },
  {
   "cell_type": "code",
   "execution_count": 74,
   "id": "b5227e67-4d4c-4613-b16a-2d37bf92d791",
   "metadata": {},
   "outputs": [
    {
     "data": {
      "text/plain": [
       "set"
      ]
     },
     "execution_count": 74,
     "metadata": {},
     "output_type": "execute_result"
    }
   ],
   "source": [
    "s = {5,4,2,7,5,4,6,5,7,8}\n",
    "type(s)"
   ]
  },
  {
   "cell_type": "code",
   "execution_count": 75,
   "id": "05019061-27f9-4ab4-b59b-cdf5df22bb6e",
   "metadata": {},
   "outputs": [
    {
     "data": {
      "text/plain": [
       "{2, 4, 5, 6, 7, 8}"
      ]
     },
     "execution_count": 75,
     "metadata": {},
     "output_type": "execute_result"
    }
   ],
   "source": [
    "s"
   ]
  },
  {
   "cell_type": "code",
   "execution_count": 76,
   "id": "5a4d9a18-3647-46f0-a97a-3dad123c88fe",
   "metadata": {},
   "outputs": [
    {
     "ename": "TypeError",
     "evalue": "'set' object is not subscriptable",
     "output_type": "error",
     "traceback": [
      "\u001b[0;31m---------------------------------------------------------------------------\u001b[0m",
      "\u001b[0;31mTypeError\u001b[0m                                 Traceback (most recent call last)",
      "Cell \u001b[0;32mIn[76], line 1\u001b[0m\n\u001b[0;32m----> 1\u001b[0m \u001b[43ms\u001b[49m\u001b[43m[\u001b[49m\u001b[38;5;241;43m4\u001b[39;49m\u001b[43m]\u001b[49m\n",
      "\u001b[0;31mTypeError\u001b[0m: 'set' object is not subscriptable"
     ]
    }
   ],
   "source": [
    "s[4]"
   ]
  },
  {
   "cell_type": "code",
   "execution_count": 77,
   "id": "02eedbd2-42d2-441f-b481-9c06c9908f40",
   "metadata": {},
   "outputs": [],
   "source": [
    "s.add(2)"
   ]
  },
  {
   "cell_type": "code",
   "execution_count": 78,
   "id": "474fa4c4-7a64-49c4-b7de-341d942dc0c9",
   "metadata": {},
   "outputs": [
    {
     "data": {
      "text/plain": [
       "{2, 4, 5, 6, 7, 8}"
      ]
     },
     "execution_count": 78,
     "metadata": {},
     "output_type": "execute_result"
    }
   ],
   "source": [
    "s"
   ]
  },
  {
   "cell_type": "code",
   "execution_count": 79,
   "id": "9639c4a1-f9b6-490a-bf83-b0cf1692fceb",
   "metadata": {},
   "outputs": [],
   "source": [
    "s1 = {1,2,3,4,5}\n",
    "s2 = {3,4,5,6,7}"
   ]
  },
  {
   "cell_type": "code",
   "execution_count": 81,
   "id": "f2dc108f-3659-4772-8023-ae5d6bd68a65",
   "metadata": {},
   "outputs": [
    {
     "data": {
      "text/plain": [
       "{1, 2, 3, 4, 5, 6, 7}"
      ]
     },
     "execution_count": 81,
     "metadata": {},
     "output_type": "execute_result"
    }
   ],
   "source": [
    "s1.union(s2)"
   ]
  },
  {
   "cell_type": "code",
   "execution_count": 82,
   "id": "211a775a-5655-43c0-b778-95e0ad3a5d67",
   "metadata": {},
   "outputs": [
    {
     "data": {
      "text/plain": [
       "{3, 4, 5}"
      ]
     },
     "execution_count": 82,
     "metadata": {},
     "output_type": "execute_result"
    }
   ],
   "source": [
    "s1.intersection(s2)"
   ]
  },
  {
   "cell_type": "code",
   "execution_count": 83,
   "id": "b4b7d28c-bc29-47c7-a96c-ef04b888076d",
   "metadata": {},
   "outputs": [
    {
     "data": {
      "text/plain": [
       "{1, 2}"
      ]
     },
     "execution_count": 83,
     "metadata": {},
     "output_type": "execute_result"
    }
   ],
   "source": [
    "s1.difference(s2)"
   ]
  },
  {
   "cell_type": "code",
   "execution_count": 84,
   "id": "44f0b748-949f-4895-8f86-c012cb763869",
   "metadata": {},
   "outputs": [
    {
     "data": {
      "text/plain": [
       "{6, 7}"
      ]
     },
     "execution_count": 84,
     "metadata": {},
     "output_type": "execute_result"
    }
   ],
   "source": [
    "s2.difference(s1)"
   ]
  },
  {
   "cell_type": "markdown",
   "id": "b842479c-bd1f-47cd-ab18-8c368d207015",
   "metadata": {},
   "source": [
    "##### Dictionary"
   ]
  },
  {
   "cell_type": "code",
   "execution_count": 87,
   "id": "5545a154-3da6-4f44-8d9b-b21c33935505",
   "metadata": {},
   "outputs": [],
   "source": [
    "d = {2:56, 5:27, 6:379, 7:372, 'a': 'apple'}"
   ]
  },
  {
   "cell_type": "code",
   "execution_count": 88,
   "id": "802cfcc8-6fec-47c8-83eb-0ee0c5e319d3",
   "metadata": {},
   "outputs": [
    {
     "data": {
      "text/plain": [
       "dict"
      ]
     },
     "execution_count": 88,
     "metadata": {},
     "output_type": "execute_result"
    }
   ],
   "source": [
    "type(d)"
   ]
  },
  {
   "cell_type": "code",
   "execution_count": 89,
   "id": "381102da-dc7b-4b82-9ef4-538e7bc2be2c",
   "metadata": {},
   "outputs": [
    {
     "data": {
      "text/plain": [
       "56"
      ]
     },
     "execution_count": 89,
     "metadata": {},
     "output_type": "execute_result"
    }
   ],
   "source": [
    "d[2]"
   ]
  },
  {
   "cell_type": "code",
   "execution_count": 90,
   "id": "33e2a567-c61f-4c98-b2b4-78fc0559e3dd",
   "metadata": {},
   "outputs": [
    {
     "data": {
      "text/plain": [
       "'apple'"
      ]
     },
     "execution_count": 90,
     "metadata": {},
     "output_type": "execute_result"
    }
   ],
   "source": [
    "d['a']"
   ]
  },
  {
   "cell_type": "code",
   "execution_count": 91,
   "id": "46cf45fa-ed45-4a03-b68d-c75fe8cdcc0b",
   "metadata": {},
   "outputs": [
    {
     "data": {
      "text/plain": [
       "{2: 56, 5: 27, 6: 1000, 7: 372, 'a': 'apple'}"
      ]
     },
     "execution_count": 91,
     "metadata": {},
     "output_type": "execute_result"
    }
   ],
   "source": [
    "d[6] = 1000\n",
    "d"
   ]
  },
  {
   "cell_type": "code",
   "execution_count": 92,
   "id": "ae06036e-7cc1-4845-a29b-c5db50c5927a",
   "metadata": {},
   "outputs": [
    {
     "data": {
      "text/plain": [
       "{2: 56, 5: 27, 6: 1000, 7: 372, 'a': 'apple', 'z': 'zebra'}"
      ]
     },
     "execution_count": 92,
     "metadata": {},
     "output_type": "execute_result"
    }
   ],
   "source": [
    "d['z'] = 'zebra'\n",
    "d"
   ]
  },
  {
   "cell_type": "code",
   "execution_count": 93,
   "id": "10b2b76b-8e36-4c60-83c4-c1301f980f4d",
   "metadata": {},
   "outputs": [],
   "source": [
    "x = {}"
   ]
  },
  {
   "cell_type": "code",
   "execution_count": 94,
   "id": "3623a5f3-db65-4706-899a-98b13d7f9e32",
   "metadata": {},
   "outputs": [],
   "source": [
    "l = [5,4,6,2,5,3,5,0]\n",
    "t = (7,8,5,3,1,2,3,4)\n",
    "s = {6,5,7,6,8,9,9}"
   ]
  },
  {
   "cell_type": "code",
   "execution_count": 95,
   "id": "90a37498-2152-42fb-9aef-a54505be11b0",
   "metadata": {},
   "outputs": [
    {
     "data": {
      "text/plain": [
       "{0, 2, 3, 4, 5, 6}"
      ]
     },
     "execution_count": 95,
     "metadata": {},
     "output_type": "execute_result"
    }
   ],
   "source": [
    "set(l)"
   ]
  },
  {
   "cell_type": "code",
   "execution_count": 96,
   "id": "e8bdb2d9-968f-4f21-9c30-eb6f4fb2ae70",
   "metadata": {},
   "outputs": [
    {
     "data": {
      "text/plain": [
       "[7, 8, 5, 3, 1, 2, 3, 4]"
      ]
     },
     "execution_count": 96,
     "metadata": {},
     "output_type": "execute_result"
    }
   ],
   "source": [
    "list(t)"
   ]
  },
  {
   "cell_type": "code",
   "execution_count": null,
   "id": "6225292d-70cd-46d6-96a4-815d280c7c3b",
   "metadata": {},
   "outputs": [],
   "source": []
  }
 ],
 "metadata": {
  "kernelspec": {
   "display_name": "Python 3 (ipykernel)",
   "language": "python",
   "name": "python3"
  },
  "language_info": {
   "codemirror_mode": {
    "name": "ipython",
    "version": 3
   },
   "file_extension": ".py",
   "mimetype": "text/x-python",
   "name": "python",
   "nbconvert_exporter": "python",
   "pygments_lexer": "ipython3",
   "version": "3.10.12"
  }
 },
 "nbformat": 4,
 "nbformat_minor": 5
}
