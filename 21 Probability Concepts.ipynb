{
 "cells": [
  {
   "cell_type": "markdown",
   "id": "3724f47e-40cb-42fe-9d02-cc3a6dac7867",
   "metadata": {},
   "source": [
    "##### Theoritical Probability"
   ]
  },
  {
   "cell_type": "code",
   "execution_count": 3,
   "id": "7ae50950-e4d0-4fe5-ae7b-0286ebe2786e",
   "metadata": {},
   "outputs": [],
   "source": [
    "def coin_flip_probability():\n",
    "  # Calculates the probability of heads in a fair coin flip.\n",
    "  heads_probability = 1 / 2\n",
    "  return heads_probability\n",
    "\n",
    "def rolling_dice_probability(number):\n",
    "  # Calculates the probability of rolling a specific number on a fair die\n",
    "  if number not in range(1, 7):\n",
    "    raise ValueError(\"Number must be between 1 and 6\")\n",
    "  probability = 1 / 6\n",
    "  return probability"
   ]
  },
  {
   "cell_type": "code",
   "execution_count": 5,
   "id": "2e4984eb-9e3d-418e-b645-6379df25c31e",
   "metadata": {},
   "outputs": [
    {
     "name": "stdout",
     "output_type": "stream",
     "text": [
      "Probability of heads in a coin flip: 0.5\n",
      "Probability of rolling a 4 on a die: 0.16666666666666666\n"
     ]
    }
   ],
   "source": [
    "# Example usage\n",
    "coin_flip_result = coin_flip_probability()\n",
    "dice_roll_result = rolling_dice_probability(4)\n",
    "\n",
    "print(\"Probability of heads in a coin flip:\", coin_flip_result)\n",
    "print(\"Probability of rolling a 4 on a die:\", dice_roll_result)"
   ]
  },
  {
   "cell_type": "markdown",
   "id": "b8086102-9f8a-4b65-913b-c73b31008a84",
   "metadata": {},
   "source": [
    "##### Experimental Probability"
   ]
  },
  {
   "cell_type": "code",
   "execution_count": 7,
   "id": "20d7332b-459e-4b32-b61c-4c265a8b37f1",
   "metadata": {},
   "outputs": [],
   "source": [
    "import random\n",
    "import pandas as pd"
   ]
  },
  {
   "cell_type": "code",
   "execution_count": 8,
   "id": "3d1688d2-19da-4f68-9811-ebda25f05fc6",
   "metadata": {},
   "outputs": [],
   "source": [
    "def simulate_coin_flips(num_flips):\n",
    "  \"\"\"Simulates coin flips and returns a list of results (heads or tails)\"\"\"\n",
    "  results = []\n",
    "  for _ in range(num_flips):\n",
    "    flip = random.choice([\"heads\", \"tails\"])\n",
    "    results.append(flip)\n",
    "  return results"
   ]
  },
  {
   "cell_type": "code",
   "execution_count": 9,
   "id": "9dc46cc4-96ee-4201-a13a-3df78d4cb8a0",
   "metadata": {},
   "outputs": [
    {
     "data": {
      "text/plain": [
       "tails    54\n",
       "heads    46\n",
       "Name: count, dtype: int64"
      ]
     },
     "execution_count": 9,
     "metadata": {},
     "output_type": "execute_result"
    }
   ],
   "source": [
    "pd.Series(simulate_coin_flips(100)).value_counts()"
   ]
  },
  {
   "cell_type": "code",
   "execution_count": 14,
   "id": "524cc6fb-097c-4b25-9897-912272849559",
   "metadata": {},
   "outputs": [],
   "source": [
    "def calculate_experimental_probability(results, event):\n",
    "  # Calculates the experimental probability of a specific event \n",
    "  # (heads or tails)\n",
    "  event_count = results.count(event)\n",
    "  total_flips = len(results)\n",
    "  probability = event_count / total_flips\n",
    "  return probability"
   ]
  },
  {
   "cell_type": "code",
   "execution_count": 15,
   "id": "9696bb92-cbd7-4b19-9fa9-ca8c54303ed0",
   "metadata": {},
   "outputs": [
    {
     "name": "stdout",
     "output_type": "stream",
     "text": [
      "Heads: 0.483\n",
      "Tails: 0.517\n"
     ]
    }
   ],
   "source": [
    "results = simulate_coin_flips(1000)\n",
    "print('Heads:', calculate_experimental_probability(results, 'heads'))\n",
    "print('Tails:', calculate_experimental_probability(results, 'tails'))"
   ]
  },
  {
   "cell_type": "code",
   "execution_count": null,
   "id": "2b391b4c-714a-4b87-b61f-8cf4688b9acb",
   "metadata": {},
   "outputs": [],
   "source": []
  }
 ],
 "metadata": {
  "kernelspec": {
   "display_name": "Python 3 (ipykernel)",
   "language": "python",
   "name": "python3"
  },
  "language_info": {
   "codemirror_mode": {
    "name": "ipython",
    "version": 3
   },
   "file_extension": ".py",
   "mimetype": "text/x-python",
   "name": "python",
   "nbconvert_exporter": "python",
   "pygments_lexer": "ipython3",
   "version": "3.10.12"
  }
 },
 "nbformat": 4,
 "nbformat_minor": 5
}
